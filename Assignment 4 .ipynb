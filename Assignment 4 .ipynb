{
 "cells": [
  {
   "cell_type": "code",
   "execution_count": 31,
   "metadata": {},
   "outputs": [
    {
     "name": "stdout",
     "output_type": "stream",
     "text": [
      "Enter array of elements (window sequence)\n",
      "3 5 7 2 8 10 11 65 72 81 99 100 150\n",
      "Enter the window size 3\n",
      "Moving Average for above list with window size 3 is \n",
      "[5.0, 4.666666666666667, 5.666666666666667, 6.666666666666667, 9.666666666666666, 28.666666666666668, 49.333333333333336, 72.66666666666667, 84.0, 93.33333333333333, 116.33333333333333] \n"
     ]
    }
   ],
   "source": [
    "# Question 1: Given a sequence of n values x1, x2, ..., xn and a window size k>0, the k-th moving average of\n",
    "# the given sequence is defined as follows:\n",
    "# The moving average sequence has n-k+1 elements as shown below.\n",
    "\n",
    "\"\"\"def mvng_avgs(arr, k):\n",
    "    res = list( 0 for x in range(0,len(arr)-k+1))\n",
    "    for i in range(0,len(arr)-k+1):\n",
    "        sum=0\n",
    "        for j in range(0,k):\n",
    "            sum += arr[i+j]\n",
    "        sum = sum/k\n",
    "        res[i] = sum\n",
    "    return res \"\"\"\n",
    "\n",
    "print(\"Enter array of elements (window sequence)\")\n",
    "arr=list(map(int,input().split()))\n",
    "k=int(input(\"Enter the window size \"))\n",
    "\"\"\" res = mvng_avgs(arr,k)\n",
    "print(res) \"\"\"\n",
    "result=[sum(arr[i:i+k])/k for i in range(0,len(arr)-k+1)] ##Using list comprehension to generate the moving average\n",
    "print(\"Moving Average for above list with window size %d is \\n%s \"%(k,result))\n"
   ]
  },
  {
   "cell_type": "markdown",
   "metadata": {},
   "source": [
    "# Task 2"
   ]
  },
  {
   "cell_type": "code",
   "execution_count": 42,
   "metadata": {},
   "outputs": [
    {
     "name": "stdout",
     "output_type": "stream",
     "text": [
      "   X  Y\n",
      "0  7  1\n",
      "1  2  2\n",
      "2  0  0\n",
      "3  3  1\n",
      "4  4  2\n",
      "5  2  3\n",
      "6  5  4\n",
      "7  0  0\n",
      "8  3  1\n",
      "9  4  2\n"
     ]
    }
   ],
   "source": [
    "# Question 1: How-to-count-distance-to-the-previous-zero\n",
    "# For each value, count the difference back to the previous zero (or the start of the Series,\n",
    "# whichever is closer)\n",
    "\n",
    "import pandas as pd\n",
    "\n",
    "def step_count(l):\n",
    "    i = 0\n",
    "    r = []\n",
    "    for element in l:\n",
    "        if element != 0:\n",
    "            i += 1\n",
    "        else:\n",
    "            i = 0\n",
    "        r.append(i)\n",
    "    return r   \n",
    "\n",
    "df = pd.DataFrame({'X': [7, 2, 0, 3, 4, 2, 5, 0, 3, 4]})\n",
    "x_list = df['X'].tolist()\n",
    "y_list = step_count(x_list)\n",
    "df['Y'] = y_list # Add the list as a new column to dataframe\n",
    "print(df)"
   ]
  },
  {
   "cell_type": "code",
   "execution_count": 71,
   "metadata": {},
   "outputs": [
    {
     "name": "stdout",
     "output_type": "stream",
     "text": [
      "2015-01-01    0.347086\n",
      "2015-01-02    0.453455\n",
      "2015-01-05    0.869222\n",
      "2015-01-06    0.175140\n",
      "2015-01-07    0.957255\n",
      "2015-01-08    0.335756\n",
      "2015-01-09    0.797686\n",
      "2015-01-12    0.125784\n",
      "2015-01-13    0.960412\n",
      "2015-01-14    0.478104\n",
      "2015-01-15    0.802347\n",
      "2015-01-16    0.157329\n",
      "2015-01-19    0.288154\n",
      "2015-01-20    0.510839\n",
      "2015-01-21    0.808959\n",
      "2015-01-22    0.456594\n",
      "2015-01-23    0.190480\n",
      "2015-01-26    0.375681\n",
      "2015-01-27    0.487759\n",
      "2015-01-28    0.004029\n",
      "2015-01-29    0.163643\n",
      "2015-01-30    0.796995\n",
      "2015-02-02    0.740385\n",
      "2015-02-03    0.754532\n",
      "2015-02-04    0.783134\n",
      "2015-02-05    0.084968\n",
      "2015-02-06    0.440440\n",
      "2015-02-09    0.000969\n",
      "2015-02-10    0.681775\n",
      "2015-02-11    0.177366\n",
      "                ...   \n",
      "2015-11-20    0.647622\n",
      "2015-11-23    0.748171\n",
      "2015-11-24    0.044113\n",
      "2015-11-25    0.420888\n",
      "2015-11-26    0.574465\n",
      "2015-11-27    0.262239\n",
      "2015-11-30    0.235968\n",
      "2015-12-01    0.371976\n",
      "2015-12-02    0.268005\n",
      "2015-12-03    0.213432\n",
      "2015-12-04    0.527698\n",
      "2015-12-07    0.647539\n",
      "2015-12-08    0.025720\n",
      "2015-12-09    0.338947\n",
      "2015-12-10    0.998022\n",
      "2015-12-11    0.926317\n",
      "2015-12-14    0.985746\n",
      "2015-12-15    0.161202\n",
      "2015-12-16    0.670390\n",
      "2015-12-17    0.430990\n",
      "2015-12-18    0.756832\n",
      "2015-12-21    0.762141\n",
      "2015-12-22    0.114683\n",
      "2015-12-23    0.979473\n",
      "2015-12-24    0.570969\n",
      "2015-12-25    0.488157\n",
      "2015-12-28    0.247123\n",
      "2015-12-29    0.234462\n",
      "2015-12-30    0.567873\n",
      "2015-12-31    0.205541\n",
      "Freq: B, Length: 261, dtype: float64\n"
     ]
    }
   ],
   "source": [
    "# Question 2: Create a DatetimeIndex that contains each business day of 2015 and use it to index a Series of\n",
    "# random numbers\n",
    "import numpy as np\n",
    "\n",
    "dti = pd.date_range(start='2015-01-01', end='2015-12-31', freq='B') \n",
    "s = pd.Series(np.random.rand(len(dti)), index=dti)\n",
    "print(s)"
   ]
  },
  {
   "cell_type": "code",
   "execution_count": 72,
   "metadata": {},
   "outputs": [
    {
     "name": "stdout",
     "output_type": "stream",
     "text": [
      "29.270877017575373\n"
     ]
    }
   ],
   "source": [
    "# Question 3: Find the sum of the values in s for every Wednesday\n",
    "\n",
    "print(s[dti.weekday == 2].sum()) "
   ]
  },
  {
   "cell_type": "code",
   "execution_count": 75,
   "metadata": {},
   "outputs": [
    {
     "data": {
      "text/plain": [
       "2015-01-31    0.479214\n",
       "2015-02-28    0.390194\n",
       "2015-03-31    0.431038\n",
       "2015-04-30    0.489179\n",
       "2015-05-31    0.531127\n",
       "2015-06-30    0.572830\n",
       "2015-07-31    0.366695\n",
       "2015-08-31    0.477133\n",
       "2015-09-30    0.547466\n",
       "2015-10-31    0.460453\n",
       "2015-11-30    0.407889\n",
       "2015-12-31    0.499706\n",
       "Freq: M, dtype: float64"
      ]
     },
     "execution_count": 75,
     "metadata": {},
     "output_type": "execute_result"
    }
   ],
   "source": [
    "# Question 4: Average For each calendar month\n",
    "\n",
    "s.resample('M').mean()\n"
   ]
  },
  {
   "cell_type": "code",
   "execution_count": 79,
   "metadata": {},
   "outputs": [
    {
     "name": "stdout",
     "output_type": "stream",
     "text": [
      "2015-01-31   2015-01-13\n",
      "2015-05-31   2015-03-02\n",
      "2015-09-30   2015-09-21\n",
      "2016-01-31   2015-12-10\n",
      "dtype: datetime64[ns]\n"
     ]
    }
   ],
   "source": [
    "# Question 5: For each group of four consecutive calendar months in s, find the date on which the highest\n",
    "# value occurred.\n",
    "\n",
    "print(s.groupby(pd.Grouper(freq='4M')).idxmax())\n"
   ]
  },
  {
   "cell_type": "code",
   "execution_count": null,
   "metadata": {},
   "outputs": [],
   "source": []
  }
 ],
 "metadata": {
  "kernelspec": {
   "display_name": "Python 3",
   "language": "python",
   "name": "python3"
  },
  "language_info": {
   "codemirror_mode": {
    "name": "ipython",
    "version": 3
   },
   "file_extension": ".py",
   "mimetype": "text/x-python",
   "name": "python",
   "nbconvert_exporter": "python",
   "pygments_lexer": "ipython3",
   "version": "3.6.5"
  }
 },
 "nbformat": 4,
 "nbformat_minor": 2
}
